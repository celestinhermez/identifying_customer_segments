{
 "cells": [
  {
   "cell_type": "markdown",
   "metadata": {},
   "source": [
    "# Project: Identify Customer Segments\n",
    "\n",
    "In this project, we will apply unsupervised learning techniques to identify segments of the population that form the core customer base for a mail-order sales company in Germany. These segments can then be used to direct marketing campaigns towards audiences that will have the highest expected rate of returns. The data that has been provided by Bertelsmann Arvato Analytics, and represents a real-life data science task.\n",
    "\n",
    "We begin by importing the necessary libraries."
   ]
  },
  {
   "cell_type": "code",
   "execution_count": 1,
   "metadata": {},
   "outputs": [],
   "source": [
    "# import libraries\n",
    "import numpy as np\n",
    "import pandas as pd\n",
    "import matplotlib.pyplot as plt\n",
    "import seaborn as sns\n",
    "import re\n",
    "from sklearn.preprocessing import StandardScaler\n",
    "from sklearn.decomposition import PCA\n",
    "from sklearn.cluster import KMeans\n",
    "import ast\n",
    "\n",
    "# magic word for producing visualizations in notebook\n",
    "%matplotlib inline"
   ]
  },
  {
   "cell_type": "markdown",
   "metadata": {},
   "source": [
    "### Step 0: Load the Data\n",
    "\n",
    "There are four files associated with this project (not including this one):\n",
    "\n",
    "- `Udacity_AZDIAS_Subset.csv`: Demographics data for the general population of Germany; 891211 persons (rows) x 85 features (columns).\n",
    "- `Udacity_CUSTOMERS_Subset.csv`: Demographics data for customers of a mail-order company; 191652 persons (rows) x 85 features (columns).\n",
    "- `Data_Dictionary.md`: Detailed information file about the features in the provided datasets.\n",
    "- `AZDIAS_Feature_Summary.csv`: Summary of feature attributes for demographics data; 85 features (rows) x 4 columns\n",
    "\n",
    "Each row of the demographics files represents a single person, but also includes information outside of individuals, including information about their household, building, and neighborhood. We will use this information to cluster the general population into groups with similar demographic properties. Then, we will see how the people in the customers dataset fit into those created clusters. The hope here is that certain clusters are over-represented in the customers data, as compared to the general population; those over-represented clusters will be assumed to be part of the core userbase. This information can then be used for further applications, such as targeting for a marketing campaign.\n",
    "\n",
    "To start off with, we load the data provided and perform some initial diagnostics."
   ]
  },
  {
   "cell_type": "code",
   "execution_count": 2,
   "metadata": {},
   "outputs": [],
   "source": [
    "# Load in the general demographics data.\n",
    "azdias = pd.read_csv('Udacity_AZDIAS_Subset.csv', sep = ';')\n",
    "\n",
    "# Load in the feature summary file.\n",
    "feat_info = pd.read_csv('AZDIAS_Feature_Summary.csv', sep = ';')"
   ]
  },
  {
   "cell_type": "code",
   "execution_count": 3,
   "metadata": {},
   "outputs": [
    {
     "name": "stdout",
     "output_type": "stream",
     "text": [
      "The demographics dataset has 891221 rows and 85 columns\n"
     ]
    },
    {
     "data": {
      "text/html": [
       "<div>\n",
       "<style>\n",
       "    .dataframe thead tr:only-child th {\n",
       "        text-align: right;\n",
       "    }\n",
       "\n",
       "    .dataframe thead th {\n",
       "        text-align: left;\n",
       "    }\n",
       "\n",
       "    .dataframe tbody tr th {\n",
       "        vertical-align: top;\n",
       "    }\n",
       "</style>\n",
       "<table border=\"1\" class=\"dataframe\">\n",
       "  <thead>\n",
       "    <tr style=\"text-align: right;\">\n",
       "      <th></th>\n",
       "      <th>AGER_TYP</th>\n",
       "      <th>ALTERSKATEGORIE_GROB</th>\n",
       "      <th>ANREDE_KZ</th>\n",
       "      <th>CJT_GESAMTTYP</th>\n",
       "      <th>FINANZ_MINIMALIST</th>\n",
       "      <th>FINANZ_SPARER</th>\n",
       "      <th>FINANZ_VORSORGER</th>\n",
       "      <th>FINANZ_ANLEGER</th>\n",
       "      <th>FINANZ_UNAUFFAELLIGER</th>\n",
       "      <th>FINANZ_HAUSBAUER</th>\n",
       "      <th>...</th>\n",
       "      <th>PLZ8_ANTG1</th>\n",
       "      <th>PLZ8_ANTG2</th>\n",
       "      <th>PLZ8_ANTG3</th>\n",
       "      <th>PLZ8_ANTG4</th>\n",
       "      <th>PLZ8_BAUMAX</th>\n",
       "      <th>PLZ8_HHZ</th>\n",
       "      <th>PLZ8_GBZ</th>\n",
       "      <th>ARBEIT</th>\n",
       "      <th>ORTSGR_KLS9</th>\n",
       "      <th>RELAT_AB</th>\n",
       "    </tr>\n",
       "  </thead>\n",
       "  <tbody>\n",
       "    <tr>\n",
       "      <th>0</th>\n",
       "      <td>-1</td>\n",
       "      <td>2</td>\n",
       "      <td>1</td>\n",
       "      <td>2.0</td>\n",
       "      <td>3</td>\n",
       "      <td>4</td>\n",
       "      <td>3</td>\n",
       "      <td>5</td>\n",
       "      <td>5</td>\n",
       "      <td>3</td>\n",
       "      <td>...</td>\n",
       "      <td>NaN</td>\n",
       "      <td>NaN</td>\n",
       "      <td>NaN</td>\n",
       "      <td>NaN</td>\n",
       "      <td>NaN</td>\n",
       "      <td>NaN</td>\n",
       "      <td>NaN</td>\n",
       "      <td>NaN</td>\n",
       "      <td>NaN</td>\n",
       "      <td>NaN</td>\n",
       "    </tr>\n",
       "    <tr>\n",
       "      <th>1</th>\n",
       "      <td>-1</td>\n",
       "      <td>1</td>\n",
       "      <td>2</td>\n",
       "      <td>5.0</td>\n",
       "      <td>1</td>\n",
       "      <td>5</td>\n",
       "      <td>2</td>\n",
       "      <td>5</td>\n",
       "      <td>4</td>\n",
       "      <td>5</td>\n",
       "      <td>...</td>\n",
       "      <td>2.0</td>\n",
       "      <td>3.0</td>\n",
       "      <td>2.0</td>\n",
       "      <td>1.0</td>\n",
       "      <td>1.0</td>\n",
       "      <td>5.0</td>\n",
       "      <td>4.0</td>\n",
       "      <td>3.0</td>\n",
       "      <td>5.0</td>\n",
       "      <td>4.0</td>\n",
       "    </tr>\n",
       "    <tr>\n",
       "      <th>2</th>\n",
       "      <td>-1</td>\n",
       "      <td>3</td>\n",
       "      <td>2</td>\n",
       "      <td>3.0</td>\n",
       "      <td>1</td>\n",
       "      <td>4</td>\n",
       "      <td>1</td>\n",
       "      <td>2</td>\n",
       "      <td>3</td>\n",
       "      <td>5</td>\n",
       "      <td>...</td>\n",
       "      <td>3.0</td>\n",
       "      <td>3.0</td>\n",
       "      <td>1.0</td>\n",
       "      <td>0.0</td>\n",
       "      <td>1.0</td>\n",
       "      <td>4.0</td>\n",
       "      <td>4.0</td>\n",
       "      <td>3.0</td>\n",
       "      <td>5.0</td>\n",
       "      <td>2.0</td>\n",
       "    </tr>\n",
       "    <tr>\n",
       "      <th>3</th>\n",
       "      <td>2</td>\n",
       "      <td>4</td>\n",
       "      <td>2</td>\n",
       "      <td>2.0</td>\n",
       "      <td>4</td>\n",
       "      <td>2</td>\n",
       "      <td>5</td>\n",
       "      <td>2</td>\n",
       "      <td>1</td>\n",
       "      <td>2</td>\n",
       "      <td>...</td>\n",
       "      <td>2.0</td>\n",
       "      <td>2.0</td>\n",
       "      <td>2.0</td>\n",
       "      <td>0.0</td>\n",
       "      <td>1.0</td>\n",
       "      <td>3.0</td>\n",
       "      <td>4.0</td>\n",
       "      <td>2.0</td>\n",
       "      <td>3.0</td>\n",
       "      <td>3.0</td>\n",
       "    </tr>\n",
       "    <tr>\n",
       "      <th>4</th>\n",
       "      <td>-1</td>\n",
       "      <td>3</td>\n",
       "      <td>1</td>\n",
       "      <td>5.0</td>\n",
       "      <td>4</td>\n",
       "      <td>3</td>\n",
       "      <td>4</td>\n",
       "      <td>1</td>\n",
       "      <td>3</td>\n",
       "      <td>2</td>\n",
       "      <td>...</td>\n",
       "      <td>2.0</td>\n",
       "      <td>4.0</td>\n",
       "      <td>2.0</td>\n",
       "      <td>1.0</td>\n",
       "      <td>2.0</td>\n",
       "      <td>3.0</td>\n",
       "      <td>3.0</td>\n",
       "      <td>4.0</td>\n",
       "      <td>6.0</td>\n",
       "      <td>5.0</td>\n",
       "    </tr>\n",
       "    <tr>\n",
       "      <th>5</th>\n",
       "      <td>3</td>\n",
       "      <td>1</td>\n",
       "      <td>2</td>\n",
       "      <td>2.0</td>\n",
       "      <td>3</td>\n",
       "      <td>1</td>\n",
       "      <td>5</td>\n",
       "      <td>2</td>\n",
       "      <td>2</td>\n",
       "      <td>5</td>\n",
       "      <td>...</td>\n",
       "      <td>2.0</td>\n",
       "      <td>3.0</td>\n",
       "      <td>1.0</td>\n",
       "      <td>1.0</td>\n",
       "      <td>1.0</td>\n",
       "      <td>5.0</td>\n",
       "      <td>5.0</td>\n",
       "      <td>2.0</td>\n",
       "      <td>3.0</td>\n",
       "      <td>3.0</td>\n",
       "    </tr>\n",
       "    <tr>\n",
       "      <th>6</th>\n",
       "      <td>-1</td>\n",
       "      <td>2</td>\n",
       "      <td>2</td>\n",
       "      <td>5.0</td>\n",
       "      <td>1</td>\n",
       "      <td>5</td>\n",
       "      <td>1</td>\n",
       "      <td>5</td>\n",
       "      <td>4</td>\n",
       "      <td>3</td>\n",
       "      <td>...</td>\n",
       "      <td>3.0</td>\n",
       "      <td>3.0</td>\n",
       "      <td>1.0</td>\n",
       "      <td>0.0</td>\n",
       "      <td>1.0</td>\n",
       "      <td>5.0</td>\n",
       "      <td>5.0</td>\n",
       "      <td>4.0</td>\n",
       "      <td>6.0</td>\n",
       "      <td>3.0</td>\n",
       "    </tr>\n",
       "    <tr>\n",
       "      <th>7</th>\n",
       "      <td>-1</td>\n",
       "      <td>1</td>\n",
       "      <td>1</td>\n",
       "      <td>3.0</td>\n",
       "      <td>3</td>\n",
       "      <td>3</td>\n",
       "      <td>4</td>\n",
       "      <td>1</td>\n",
       "      <td>3</td>\n",
       "      <td>2</td>\n",
       "      <td>...</td>\n",
       "      <td>3.0</td>\n",
       "      <td>3.0</td>\n",
       "      <td>1.0</td>\n",
       "      <td>0.0</td>\n",
       "      <td>1.0</td>\n",
       "      <td>4.0</td>\n",
       "      <td>4.0</td>\n",
       "      <td>2.0</td>\n",
       "      <td>5.0</td>\n",
       "      <td>2.0</td>\n",
       "    </tr>\n",
       "    <tr>\n",
       "      <th>8</th>\n",
       "      <td>-1</td>\n",
       "      <td>3</td>\n",
       "      <td>1</td>\n",
       "      <td>3.0</td>\n",
       "      <td>4</td>\n",
       "      <td>4</td>\n",
       "      <td>2</td>\n",
       "      <td>4</td>\n",
       "      <td>2</td>\n",
       "      <td>2</td>\n",
       "      <td>...</td>\n",
       "      <td>2.0</td>\n",
       "      <td>3.0</td>\n",
       "      <td>2.0</td>\n",
       "      <td>1.0</td>\n",
       "      <td>1.0</td>\n",
       "      <td>3.0</td>\n",
       "      <td>3.0</td>\n",
       "      <td>2.0</td>\n",
       "      <td>4.0</td>\n",
       "      <td>3.0</td>\n",
       "    </tr>\n",
       "    <tr>\n",
       "      <th>9</th>\n",
       "      <td>-1</td>\n",
       "      <td>3</td>\n",
       "      <td>2</td>\n",
       "      <td>4.0</td>\n",
       "      <td>2</td>\n",
       "      <td>4</td>\n",
       "      <td>2</td>\n",
       "      <td>3</td>\n",
       "      <td>5</td>\n",
       "      <td>4</td>\n",
       "      <td>...</td>\n",
       "      <td>2.0</td>\n",
       "      <td>3.0</td>\n",
       "      <td>2.0</td>\n",
       "      <td>1.0</td>\n",
       "      <td>1.0</td>\n",
       "      <td>3.0</td>\n",
       "      <td>3.0</td>\n",
       "      <td>2.0</td>\n",
       "      <td>3.0</td>\n",
       "      <td>1.0</td>\n",
       "    </tr>\n",
       "  </tbody>\n",
       "</table>\n",
       "<p>10 rows × 85 columns</p>\n",
       "</div>"
      ],
      "text/plain": [
       "   AGER_TYP  ALTERSKATEGORIE_GROB  ANREDE_KZ  CJT_GESAMTTYP  \\\n",
       "0        -1                     2          1            2.0   \n",
       "1        -1                     1          2            5.0   \n",
       "2        -1                     3          2            3.0   \n",
       "3         2                     4          2            2.0   \n",
       "4        -1                     3          1            5.0   \n",
       "5         3                     1          2            2.0   \n",
       "6        -1                     2          2            5.0   \n",
       "7        -1                     1          1            3.0   \n",
       "8        -1                     3          1            3.0   \n",
       "9        -1                     3          2            4.0   \n",
       "\n",
       "   FINANZ_MINIMALIST  FINANZ_SPARER  FINANZ_VORSORGER  FINANZ_ANLEGER  \\\n",
       "0                  3              4                 3               5   \n",
       "1                  1              5                 2               5   \n",
       "2                  1              4                 1               2   \n",
       "3                  4              2                 5               2   \n",
       "4                  4              3                 4               1   \n",
       "5                  3              1                 5               2   \n",
       "6                  1              5                 1               5   \n",
       "7                  3              3                 4               1   \n",
       "8                  4              4                 2               4   \n",
       "9                  2              4                 2               3   \n",
       "\n",
       "   FINANZ_UNAUFFAELLIGER  FINANZ_HAUSBAUER    ...     PLZ8_ANTG1  PLZ8_ANTG2  \\\n",
       "0                      5                 3    ...            NaN         NaN   \n",
       "1                      4                 5    ...            2.0         3.0   \n",
       "2                      3                 5    ...            3.0         3.0   \n",
       "3                      1                 2    ...            2.0         2.0   \n",
       "4                      3                 2    ...            2.0         4.0   \n",
       "5                      2                 5    ...            2.0         3.0   \n",
       "6                      4                 3    ...            3.0         3.0   \n",
       "7                      3                 2    ...            3.0         3.0   \n",
       "8                      2                 2    ...            2.0         3.0   \n",
       "9                      5                 4    ...            2.0         3.0   \n",
       "\n",
       "   PLZ8_ANTG3  PLZ8_ANTG4  PLZ8_BAUMAX  PLZ8_HHZ  PLZ8_GBZ  ARBEIT  \\\n",
       "0         NaN         NaN          NaN       NaN       NaN     NaN   \n",
       "1         2.0         1.0          1.0       5.0       4.0     3.0   \n",
       "2         1.0         0.0          1.0       4.0       4.0     3.0   \n",
       "3         2.0         0.0          1.0       3.0       4.0     2.0   \n",
       "4         2.0         1.0          2.0       3.0       3.0     4.0   \n",
       "5         1.0         1.0          1.0       5.0       5.0     2.0   \n",
       "6         1.0         0.0          1.0       5.0       5.0     4.0   \n",
       "7         1.0         0.0          1.0       4.0       4.0     2.0   \n",
       "8         2.0         1.0          1.0       3.0       3.0     2.0   \n",
       "9         2.0         1.0          1.0       3.0       3.0     2.0   \n",
       "\n",
       "   ORTSGR_KLS9  RELAT_AB  \n",
       "0          NaN       NaN  \n",
       "1          5.0       4.0  \n",
       "2          5.0       2.0  \n",
       "3          3.0       3.0  \n",
       "4          6.0       5.0  \n",
       "5          3.0       3.0  \n",
       "6          6.0       3.0  \n",
       "7          5.0       2.0  \n",
       "8          4.0       3.0  \n",
       "9          3.0       1.0  \n",
       "\n",
       "[10 rows x 85 columns]"
      ]
     },
     "execution_count": 3,
     "metadata": {},
     "output_type": "execute_result"
    }
   ],
   "source": [
    "# Check the structure of the data after it's loaded (e.g. print the number of\n",
    "# rows and columns, print the first few rows).\n",
    "print('The demographics dataset has ' + str(azdias.shape[0]) + ' rows and ' + str(azdias.shape[1]) + ' columns')\n",
    "azdias.head(10)"
   ]
  },
  {
   "cell_type": "code",
   "execution_count": 4,
   "metadata": {},
   "outputs": [
    {
     "name": "stdout",
     "output_type": "stream",
     "text": [
      "The feature dataset has 85 rows and 4 columns, which matches the number of attributes of the demographics dataset\n"
     ]
    },
    {
     "data": {
      "text/html": [
       "<div>\n",
       "<style>\n",
       "    .dataframe thead tr:only-child th {\n",
       "        text-align: right;\n",
       "    }\n",
       "\n",
       "    .dataframe thead th {\n",
       "        text-align: left;\n",
       "    }\n",
       "\n",
       "    .dataframe tbody tr th {\n",
       "        vertical-align: top;\n",
       "    }\n",
       "</style>\n",
       "<table border=\"1\" class=\"dataframe\">\n",
       "  <thead>\n",
       "    <tr style=\"text-align: right;\">\n",
       "      <th></th>\n",
       "      <th>attribute</th>\n",
       "      <th>information_level</th>\n",
       "      <th>type</th>\n",
       "      <th>missing_or_unknown</th>\n",
       "    </tr>\n",
       "  </thead>\n",
       "  <tbody>\n",
       "    <tr>\n",
       "      <th>0</th>\n",
       "      <td>AGER_TYP</td>\n",
       "      <td>person</td>\n",
       "      <td>categorical</td>\n",
       "      <td>[-1,0]</td>\n",
       "    </tr>\n",
       "    <tr>\n",
       "      <th>1</th>\n",
       "      <td>ALTERSKATEGORIE_GROB</td>\n",
       "      <td>person</td>\n",
       "      <td>ordinal</td>\n",
       "      <td>[-1,0,9]</td>\n",
       "    </tr>\n",
       "    <tr>\n",
       "      <th>2</th>\n",
       "      <td>ANREDE_KZ</td>\n",
       "      <td>person</td>\n",
       "      <td>categorical</td>\n",
       "      <td>[-1,0]</td>\n",
       "    </tr>\n",
       "    <tr>\n",
       "      <th>3</th>\n",
       "      <td>CJT_GESAMTTYP</td>\n",
       "      <td>person</td>\n",
       "      <td>categorical</td>\n",
       "      <td>[0]</td>\n",
       "    </tr>\n",
       "    <tr>\n",
       "      <th>4</th>\n",
       "      <td>FINANZ_MINIMALIST</td>\n",
       "      <td>person</td>\n",
       "      <td>ordinal</td>\n",
       "      <td>[-1]</td>\n",
       "    </tr>\n",
       "  </tbody>\n",
       "</table>\n",
       "</div>"
      ],
      "text/plain": [
       "              attribute information_level         type missing_or_unknown\n",
       "0              AGER_TYP            person  categorical             [-1,0]\n",
       "1  ALTERSKATEGORIE_GROB            person      ordinal           [-1,0,9]\n",
       "2             ANREDE_KZ            person  categorical             [-1,0]\n",
       "3         CJT_GESAMTTYP            person  categorical                [0]\n",
       "4     FINANZ_MINIMALIST            person      ordinal               [-1]"
      ]
     },
     "execution_count": 4,
     "metadata": {},
     "output_type": "execute_result"
    }
   ],
   "source": [
    "print('The feature dataset has {0} rows and {1} columns, which matches the number of attributes of the demographics dataset'.format(feat_info.shape[0], feat_info.shape[1]))\n",
    "feat_info.head()"
   ]
  },
  {
   "cell_type": "markdown",
   "metadata": {},
   "source": [
    "## Step 1: Preprocessing\n",
    "\n",
    "### Step 1.1: Assess Missing Data\n",
    "\n",
    "The feature summary file contains a summary of properties for each demographics data column. We use this file to help  make cleaning decisions during this stage of the project. First of all, we assess the demographics data in terms of missing data. \n",
    "\n",
    "#### Step 1.1.1: Convert Missing Value Codes to NaNs\n",
    "The fourth column of the feature attributes summary (loaded in above as `feat_info`) documents the codes from the data dictionary that indicate missing or unknown data. While the file encodes this as a list (e.g. `[-1,0]`), this will get read in as a string object. We parse this data to analyze how much of the data is missing. "
   ]
  },
  {
   "cell_type": "code",
   "execution_count": 5,
   "metadata": {},
   "outputs": [],
   "source": [
    "# We loop through the columns of the demographic dataset, find the corresponding missing values from the features info\n",
    "# We parse these missing values, and then look at the rows of the column and replace the missing values by NaN\n",
    "\n",
    "# We start by writing a helper function which we will use to map our codes to null values\n",
    "def compare_codes(x):\n",
    "    # we first check for NaN values, handling the exception accordingly\n",
    "    try:\n",
    "        if np.isnan(x):\n",
    "            return(True)\n",
    "    except:\n",
    "        pass\n",
    "    \n",
    "    # we need to be careful about the conversion of floats to strings, so we split on the decimal\n",
    "    # separator and only keep the first part\n",
    "    return(str(x).split('.')[0] in missing_parsed)\n",
    "\n",
    "for c in azdias:\n",
    "    missing = feat_info[feat_info.attribute == c].missing_or_unknown.values.tolist()\n",
    "    missing_parsed = missing[0].split('[')[1].split(']')[0].split(',')\n",
    "    \n",
    "    \n",
    "    check = azdias[c].apply(compare_codes)    \n",
    "    azdias.loc[check, c] = np.nan"
   ]
  },
  {
   "cell_type": "markdown",
   "metadata": {},
   "source": [
    "#### Step 1.1.2: Assess Missing Data in Each Column"
   ]
  },
  {
   "cell_type": "code",
   "execution_count": 6,
   "metadata": {},
   "outputs": [],
   "source": [
    "# Perform an assessment of how much missing data there is in each column of the\n",
    "# dataset.\n",
    "missing_col = azdias.isnull().sum()"
   ]
  },
  {
   "cell_type": "code",
   "execution_count": 7,
   "metadata": {},
   "outputs": [
    {
     "data": {
      "image/png": "[encoded data removed]",
      "text/plain": [
       "<matplotlib.figure.Figure at 0x7f02c25209e8>"
      ]
     },
     "metadata": {
      "needs_background": "light"
     },
     "output_type": "display_data"
    }
   ],
   "source": [
    "# Investigate patterns in the amount of missing data in each column.\n",
    "hist_col = plt.hist(missing_col)\n",
    "plt.show(hist_col)"
   ]
  },
  {
   "cell_type": "code",
   "execution_count": 8,
   "metadata": {},
   "outputs": [
    {
     "data": {
      "text/plain": [
       "ZABEOTYP                      0\n",
       "SEMIO_TRADV                   0\n",
       "SEMIO_PFLICHT                 0\n",
       "SEMIO_KAEM                    0\n",
       "SEMIO_DOM                     0\n",
       "SEMIO_KRIT                    0\n",
       "SEMIO_RAT                     0\n",
       "SEMIO_KULT                    0\n",
       "SEMIO_ERL                     0\n",
       "SEMIO_LUST                    0\n",
       "SEMIO_VERT                    0\n",
       "SEMIO_MAT                     0\n",
       "SEMIO_REL                     0\n",
       "SEMIO_SOZ                     0\n",
       "SEMIO_FAM                     0\n",
       "FINANZ_VORSORGER              0\n",
       "ANREDE_KZ                     0\n",
       "FINANZ_MINIMALIST             0\n",
       "FINANZ_SPARER                 0\n",
       "FINANZ_ANLEGER                0\n",
       "FINANZ_UNAUFFAELLIGER         0\n",
       "FINANZ_HAUSBAUER              0\n",
       "GREEN_AVANTGARDE              0\n",
       "FINANZTYP                     0\n",
       "ALTERSKATEGORIE_GROB       2881\n",
       "GFK_URLAUBERTYP            4854\n",
       "LP_STATUS_GROB             4854\n",
       "LP_STATUS_FEIN             4854\n",
       "ONLINE_AFFINITAET          4854\n",
       "RETOURTYP_BK_S             4854\n",
       "                          ...  \n",
       "CAMEO_INTL_2015           99352\n",
       "ANZ_HAUSHALTE_AKTIV       99611\n",
       "KBA13_ANZAHL_PKW         105800\n",
       "PRAEGENDE_JUGENDJAHRE    108164\n",
       "NATIONALITAET_KZ         108315\n",
       "HEALTH_TYP               111196\n",
       "VERS_TYP                 111196\n",
       "SHOPPER_TYP              111196\n",
       "PLZ8_ANTG2               116515\n",
       "PLZ8_ANTG3               116515\n",
       "PLZ8_ANTG1               116515\n",
       "PLZ8_ANTG4               116515\n",
       "PLZ8_BAUMAX              116515\n",
       "PLZ8_HHZ                 116515\n",
       "PLZ8_GBZ                 116515\n",
       "KBA05_ANTG3              133324\n",
       "KBA05_ANTG2              133324\n",
       "KBA05_ANTG1              133324\n",
       "MOBI_REGIO               133324\n",
       "KBA05_GBZ                133324\n",
       "KBA05_ANTG4              133324\n",
       "W_KEIT_KIND_HH           147988\n",
       "KKK                      158064\n",
       "REGIOTYP                 158064\n",
       "ALTER_HH                 310267\n",
       "GEBURTSJAHR              392318\n",
       "KBA05_BAUMAX             476524\n",
       "KK_KUNDENTYP             584612\n",
       "AGER_TYP                 685843\n",
       "TITEL_KZ                 889061\n",
       "Length: 85, dtype: int64"
      ]
     },
     "execution_count": 8,
     "metadata": {},
     "output_type": "execute_result"
    }
   ],
   "source": [
    "# We visualize variables which have very little missing values\n",
    "missing_col.sort_values()"
   ]
  },
  {
   "cell_type": "code",
   "execution_count": 9,
   "metadata": {},
   "outputs": [
    {
     "data": {
      "text/plain": [
       "142122.40000000014"
      ]
     },
     "execution_count": 9,
     "metadata": {},
     "output_type": "execute_result"
    }
   ],
   "source": [
    "# We visualize the 90% percentile\n",
    "missing_col.quantile(0.90)"
   ]
  },
  {
   "cell_type": "code",
   "execution_count": 10,
   "metadata": {},
   "outputs": [],
   "source": [
    "# Remove the outlier columns from the dataset.\n",
    "# Based on the result above, we set the max number of NA's to be 150,000\n",
    "max_number_of_nas = 150000\n",
    "azdias_reduced = azdias.loc[:, (missing_col <= max_number_of_nas)]"
   ]
  },
  {
   "cell_type": "code",
   "execution_count": 11,
   "metadata": {},
   "outputs": [
    {
     "data": {
      "text/plain": [
       "['AGER_TYP',\n",
       " 'GEBURTSJAHR',\n",
       " 'TITEL_KZ',\n",
       " 'ALTER_HH',\n",
       " 'KK_KUNDENTYP',\n",
       " 'KBA05_BAUMAX',\n",
       " 'KKK',\n",
       " 'REGIOTYP']"
      ]
     },
     "execution_count": 11,
     "metadata": {},
     "output_type": "execute_result"
    }
   ],
   "source": [
    "# We visualize the columns which have a number of missing values higher than our thresholds\n",
    "high_na_col = azdias.loc[:, (missing_col > max_number_of_nas)].columns.tolist()\n",
    "high_na_col"
   ]
  },
  {
   "cell_type": "markdown",
   "metadata": {},
   "source": [
    "Looking at the histogram of missing values, we can see that most variables contain missing values (which is to be expected with real-life data). Yet, while most columns have between 0 and 150,000 missing values, or less than 20% since the total number of observations is 891,221, we have a long right tail. We choose a threshold of 150,000 missing values, close to the 90th percentile. Variables with more missing values are excluded from the dataset, to avoid any potential bias.\n",
    "\n",
    "As a result, the following columns are excluded from the dataset:\n",
    "- AGER_TYP\n",
    "- TITEL_KZ\n",
    "- GEBURTSJAHR\n",
    "- ALTER_HH\n",
    "- REGIO_TYP\n",
    "- KBA05_BAUMAX\n",
    "- KKK\n",
    "- KK_KUNDENTYP\n",
    "\n",
    "Looking at some patterns in the missing values, we can see variables seem to capture similar information, as designated by a suffix. For instance, all the SEMIO_* have 0 missing values, while PLZ8_* variables all have 116,515 missing values. This is confirmed by looking at the data dictionary: the prefix describes the general information, while the suffix describes the level of the variable. "
   ]
  },
  {
   "cell_type": "markdown",
   "metadata": {},
   "source": [
    "#### Step 1.1.3: Assess Missing Data in Each Row\n",
    "\n",
    "Now, we perform a similar assessment for the rows of the dataset."
   ]
  },
  {
   "cell_type": "code",
   "execution_count": 12,
   "metadata": {},
   "outputs": [
    {
     "data": {
      "image/png": "[encoded data removed]",
      "text/plain": [
       "<matplotlib.figure.Figure at 0x7f02c23f9fd0>"
      ]
     },
     "metadata": {
      "needs_background": "light"
     },
     "output_type": "display_data"
    }
   ],
   "source": [
    "# How much data is missing in each row of the dataset?\n",
    "missing_row = azdias_reduced.isnull().sum(axis = 1)\n",
    "hist_row = plt.hist(missing_row)\n",
    "plt.show(hist_row)"
   ]
  },
  {
   "cell_type": "code",
   "execution_count": 13,
   "metadata": {},
   "outputs": [
    {
     "data": {
      "text/plain": [
       "32.0"
      ]
     },
     "execution_count": 13,
     "metadata": {},
     "output_type": "execute_result"
    }
   ],
   "source": [
    "# We visualize the 90th percentile to have a good idea of where to set the threshold\n",
    "missing_row.quantile(0.9)"
   ]
  },
  {
   "cell_type": "code",
   "execution_count": 14,
   "metadata": {},
   "outputs": [],
   "source": [
    "# Write code to divide the data into two subsets based on the number of missing\n",
    "# values in each row.\n",
    "# Based on the result above, we set the threshold to 36\n",
    "max_na_row = missing_row.quantile(0.9)\n",
    "low_na = azdias_reduced.loc[(missing_row <= max_na_row), :]\n",
    "high_na = azdias_reduced.loc[(missing_row > max_na_row), :]"
   ]
  },
  {
   "cell_type": "code",
   "execution_count": 15,
   "metadata": {},
   "outputs": [],
   "source": [
    "# Compare the distribution of values for at least five columns where there are\n",
    "# no or few missing values, between the two subsets.\n",
    "# We start by identifying which columns have the fewest missing values\n",
    "low_na_col = missing_col.sort_values().head()"
   ]
  },
  {
   "cell_type": "code",
   "execution_count": 16,
   "metadata": {},
   "outputs": [
    {
     "data": {
      "image/png": "[encoded data removed]",
      "text/plain": [
       "<matplotlib.figure.Figure at 0x7f02c23c6cc0>"
      ]
     },
     "metadata": {
      "needs_background": "light"
     },
     "output_type": "display_data"
    },
    {
     "data": {
      "image/png": "[encoded data removed]",
      "text/plain": [
       "<matplotlib.figure.Figure at 0x7f02c22ebeb8>"
      ]
     },
     "metadata": {
      "needs_background": "light"
     },
     "output_type": "display_data"
    },
    {
     "data": {
      "image/png": "[encoded data removed]",
      "text/plain": [
       "<matplotlib.figure.Figure at 0x7f02c23e4eb8>"
      ]
     },
     "metadata": {
      "needs_background": "light"
     },
     "output_type": "display_data"
    },
    {
     "data": {
      "image/png": "[encoded data removed]",
      "text/plain": [
       "<matplotlib.figure.Figure at 0x7f02c22bc908>"
      ]
     },
     "metadata": {
      "needs_background": "light"
     },
     "output_type": "display_data"
    },
    {
     "data": {
      "image/png": "[encoded data removed]",
      "text/plain": [
       "<matplotlib.figure.Figure at 0x7f02c2218fd0>"
      ]
     },
     "metadata": {
      "needs_background": "light"
     },
     "output_type": "display_data"
    }
   ],
   "source": [
    "# Then we compare the distribution of values for these columns between the two subsets\n",
    "# We write a function to do this comparison on a given column\n",
    "\n",
    "def compare_distrib(col, i):\n",
    "    ax = plt.subplot(6,2,i, title = \"Distribution for \" + col)\n",
    "    sns.countplot(col, data = low_na)\n",
    "    ax2 = plt.subplot(6,2,i + 1, sharey = ax)\n",
    "    plt.setp(ax2.get_yticklabels(), visible=False)\n",
    "    sns.countplot(col, data = high_na)\n",
    "    plt.tight_layout\n",
    "    plt.show()\n",
    "    \n",
    "# We apply our function to our columns with low missing values\n",
    "i = 1\n",
    "for c in low_na_col.index.values:\n",
    "    compare_distrib(c, i)\n",
    "    i = i + 2"
   ]
  },
  {
   "cell_type": "code",
   "execution_count": 17,
   "metadata": {},
   "outputs": [],
   "source": [
    "# For now, we only keep the rows with low missing values for further analysis\n",
    "# We keep the number of rows which were thus excluded handy for future analysis\n",
    "azdias_low_missing = low_na.copy()\n",
    "excluded_rows_azdias = sum(missing_row>max_na_row)"
   ]
  },
  {
   "cell_type": "markdown",
   "metadata": {},
   "source": [
    "Looking at the distribution of missing values in each row, we see most rows have few missing values (<20) but there is a group of them which has between 40 or 50 missing values, which represents approximately 50% of the features. We thus set a threshold at 32, based on the quantile and split these rows into two subsets. We could also set it at 20, which graphically appears to be a good split between two groups of data.\n",
    "\n",
    "Focusing on columns which have no or very low missing values, we can see that the distribution of values between the two subsets is qualitatively different. The plots above are not perfect (not same scale, not very readable) but they still provide a good idea of what is going on: different distribution of values between the rows with high vs. low missing values. As a result, these data appear to be special, and we probably want to give them special attention. Nonetheless, for now we only keep the rows with low missing values."
   ]
  },
  {
   "cell_type": "markdown",
   "metadata": {},
   "source": [
    "### Step 1.2: Select and Re-Encode Features\n",
    "\n",
    "Checking for missing data isn't the only way in which we can prepare a dataset for analysis. Since the unsupervised learning techniques to be used will only work on data that is encoded numerically, we need to make a few encoding changes or additional assumptions to be able to make progress. In addition, while almost all of the values in the dataset are encoded using numbers, not all of them represent numeric values.\n",
    "- For numeric and interval data, these features can be kept without changes.\n",
    "- Most of the variables in the dataset are ordinal in nature. While ordinal values may technically be non-linear in spacing, make the simplifying assumption that the ordinal variables can be treated as being interval in nature (that is, kept without any changes).\n",
    "- Special handling may be necessary for the remaining two variable types: categorical, and 'mixed'."
   ]
  },
  {
   "cell_type": "code",
   "execution_count": 18,
   "metadata": {},
   "outputs": [
    {
     "data": {
      "text/plain": [
       "type\n",
       "categorical    21\n",
       "interval        1\n",
       "mixed           7\n",
       "numeric         7\n",
       "ordinal        49\n",
       "Name: attribute, dtype: int64"
      ]
     },
     "execution_count": 18,
     "metadata": {},
     "output_type": "execute_result"
    }
   ],
   "source": [
    "# How many features are there of each data type?\n",
    "feat_info.groupby(\"type\")['attribute'].count()"
   ]
  },
  {
   "cell_type": "markdown",
   "metadata": {},
   "source": [
    "#### Step 1.2.1: Re-Encode Categorical Features\n",
    "\n",
    "For categorical data, we would ordinarily need to encode the levels as dummy variables. Depending on the number of categories, perform one of the following:\n",
    "- For binary (two-level) categoricals that take numeric values, we can keep them without needing to do anything.\n",
    "- There is one binary variable that takes on non-numeric values. For this one, we need to re-encode the values as numbers or create a dummy variable.\n",
    "- For multi-level categoricals (three or more values), we can choose to encode the values using multiple dummy variables (e.g. via [OneHotEncoder](http://scikit-learn.org/stable/modules/generated/sklearn.preprocessing.OneHotEncoder.html)), or (to keep things straightforward) just drop them from the analysis"
   ]
  },
  {
   "cell_type": "code",
   "execution_count": 19,
   "metadata": {},
   "outputs": [
    {
     "data": {
      "text/plain": [
       "['GREEN_AVANTGARDE', 'SOHO_KZ']"
      ]
     },
     "execution_count": 19,
     "metadata": {},
     "output_type": "execute_result"
    }
   ],
   "source": [
    "# We first find the binary variables\n",
    "# We can leave them as they are\n",
    "binary = [col for col in azdias_low_missing if \n",
    "               azdias_low_missing[col].dropna().value_counts().index.isin([0,1]).all()]\n",
    "binary"
   ]
  },
  {
   "cell_type": "code",
   "execution_count": 20,
   "metadata": {},
   "outputs": [],
   "source": [
    "# Looking at the data dictionary, we also determine OST_WEST_KZ is a binary variable taking non-numeric values\n",
    "# We re-encode it with W as the basis (0) and 1 for O\n",
    "azdias_low_missing.OST_WEST_KZ = azdias_low_missing.OST_WEST_KZ.map({'W':0, 'O': 1})"
   ]
  },
  {
   "cell_type": "code",
   "execution_count": 21,
   "metadata": {},
   "outputs": [
    {
     "data": {
      "text/plain": [
       "2            ANREDE_KZ\n",
       "3        CJT_GESAMTTYP\n",
       "10           FINANZTYP\n",
       "12     GFK_URLAUBERTYP\n",
       "17     LP_FAMILIE_FEIN\n",
       "18     LP_FAMILIE_GROB\n",
       "19      LP_STATUS_FEIN\n",
       "20      LP_STATUS_GROB\n",
       "21    NATIONALITAET_KZ\n",
       "38         SHOPPER_TYP\n",
       "41            VERS_TYP\n",
       "42            ZABEOTYP\n",
       "52         GEBAEUDETYP\n",
       "55         OST_WEST_KZ\n",
       "57     CAMEO_DEUG_2015\n",
       "58      CAMEO_DEU_2015\n",
       "Name: attribute, dtype: object"
      ]
     },
     "execution_count": 21,
     "metadata": {},
     "output_type": "execute_result"
    }
   ],
   "source": [
    "# We look at all the categorical variables\n",
    "categorical_col = feat_info.loc[feat_info.type == 'categorical'].attribute\n",
    "categorical_col\n",
    "\n",
    "# From there we can determine a list of columns to re-encode through one-hot encoding\n",
    "to_keep = []\n",
    "for c in categorical_col:\n",
    "    if not (c in high_na_col or c in binary):\n",
    "        to_keep.append(True)\n",
    "    else:\n",
    "        to_keep.append(False)\n",
    "\n",
    "categorical_col_tocode = categorical_col[to_keep]\n",
    "categorical_col_tocode"
   ]
  },
  {
   "cell_type": "code",
   "execution_count": 22,
   "metadata": {},
   "outputs": [],
   "source": [
    "# Re-encode categorical variable(s) to be kept in the analysis.\n",
    "azdias_encoded = pd.get_dummies(azdias_low_missing, columns = categorical_col_tocode)"
   ]
  },
  {
   "cell_type": "markdown",
   "metadata": {},
   "source": [
    "First of all, regarding the binary variables, the OST_WEST_KZ variable is binary but contains non-numeric values, so I had to transform it to numeric values, choosing W to be the basis (i.e. be encoded by 0). I then had to identify categorical variables to re-encode, and was left with 13 multi-level variables, for which I created dummies to be used for further analysis. "
   ]
  },
  {
   "cell_type": "markdown",
   "metadata": {},
   "source": [
    "#### Step 1.2.2: Engineer Mixed-Type Features\n",
    "\n",
    "There are a handful of features that are marked as \"mixed\" in the feature summary that require special treatment in order to be included in the analysis. There are two in particular that deserve attention:\n",
    "- \"PRAEGENDE_JUGENDJAHRE\" combines information on three dimensions: generation by decade, movement (mainstream vs. avantgarde), and nation (east vs. west). While there aren't enough levels to disentangle east from west, we create two new variables to capture the other two dimensions: an interval-type variable for decade, and a binary variable for movement.\n",
    "- \"CAMEO_INTL_2015\" combines information on two axes: wealth and life stage. We break up the two-digit codes by their 'tens'-place and 'ones'-place digits into two new ordinal variables (which, for the purposes of this project, is equivalent to just treating them as their raw numeric values).\n",
    "\n",
    "Be sure to check `Data_Dictionary.md` for the details needed to finish these tasks."
   ]
  },
  {
   "cell_type": "code",
   "execution_count": 23,
   "metadata": {},
   "outputs": [
    {
     "data": {
      "text/plain": [
       "1     14.0\n",
       "2     15.0\n",
       "3      8.0\n",
       "4      8.0\n",
       "5      3.0\n",
       "6     10.0\n",
       "7      8.0\n",
       "8     11.0\n",
       "9     15.0\n",
       "10     3.0\n",
       "Name: PRAEGENDE_JUGENDJAHRE, dtype: float64"
      ]
     },
     "execution_count": 23,
     "metadata": {},
     "output_type": "execute_result"
    }
   ],
   "source": [
    "# Investigate \"PRAEGENDE_JUGENDJAHRE\" and engineer two new variables.\n",
    "# We start by visualizing a few rows for this variable\n",
    "azdias_encoded.PRAEGENDE_JUGENDJAHRE.head(10)"
   ]
  },
  {
   "cell_type": "code",
   "execution_count": 24,
   "metadata": {},
   "outputs": [],
   "source": [
    "# These values are not very informative \n",
    "# Looking at the data dictionary, we can separate two pieces of information\n",
    "# The first piece of information refers to the generation, which we can encode with an interval categorical variable\n",
    "# We use the level 0 for the 40's, 1 for the 50's and so on until 5 for the 90's\n",
    "azdias_encoded['DECADE'] = azdias_encoded.PRAEGENDE_JUGENDJAHRE.map({1:0 ,2:0, 3:1, 4:1, 5:2, 6:2,\n",
    "                                                                     7:2, 8:3, 9:3, 10:4, 11:4, 12:4,\n",
    "                                                                     13:4, 14:5, 15:5})"
   ]
  },
  {
   "cell_type": "code",
   "execution_count": 25,
   "metadata": {},
   "outputs": [
    {
     "data": {
      "text/html": [
       "<div>\n",
       "<style>\n",
       "    .dataframe thead tr:only-child th {\n",
       "        text-align: right;\n",
       "    }\n",
       "\n",
       "    .dataframe thead th {\n",
       "        text-align: left;\n",
       "    }\n",
       "\n",
       "    .dataframe tbody tr th {\n",
       "        vertical-align: top;\n",
       "    }\n",
       "</style>\n",
       "<table border=\"1\" class=\"dataframe\">\n",
       "  <thead>\n",
       "    <tr style=\"text-align: right;\">\n",
       "      <th></th>\n",
       "      <th>PRAEGENDE_JUGENDJAHRE</th>\n",
       "      <th>DECADE</th>\n",
       "    </tr>\n",
       "  </thead>\n",
       "  <tbody>\n",
       "    <tr>\n",
       "      <th>1</th>\n",
       "      <td>14.0</td>\n",
       "      <td>5.0</td>\n",
       "    </tr>\n",
       "    <tr>\n",
       "      <th>2</th>\n",
       "      <td>15.0</td>\n",
       "      <td>5.0</td>\n",
       "    </tr>\n",
       "    <tr>\n",
       "      <th>3</th>\n",
       "      <td>8.0</td>\n",
       "      <td>3.0</td>\n",
       "    </tr>\n",
       "    <tr>\n",
       "      <th>4</th>\n",
       "      <td>8.0</td>\n",
       "      <td>3.0</td>\n",
       "    </tr>\n",
       "    <tr>\n",
       "      <th>5</th>\n",
       "      <td>3.0</td>\n",
       "      <td>1.0</td>\n",
       "    </tr>\n",
       "  </tbody>\n",
       "</table>\n",
       "</div>"
      ],
      "text/plain": [
       "   PRAEGENDE_JUGENDJAHRE  DECADE\n",
       "1                   14.0     5.0\n",
       "2                   15.0     5.0\n",
       "3                    8.0     3.0\n",
       "4                    8.0     3.0\n",
       "5                    3.0     1.0"
      ]
     },
     "execution_count": 25,
     "metadata": {},
     "output_type": "execute_result"
    }
   ],
   "source": [
    "# We check our mapping is correct\n",
    "azdias_encoded[['PRAEGENDE_JUGENDJAHRE', 'DECADE']].head()"
   ]
  },
  {
   "cell_type": "code",
   "execution_count": 26,
   "metadata": {},
   "outputs": [],
   "source": [
    "# The second piece of information captured in this variable is the movement, which we capture in a binary variable\n",
    "# We set 0 to be mainstream, and 1 to be avant-garde\n",
    "azdias_encoded['MOVEMENT'] = azdias_encoded.PRAEGENDE_JUGENDJAHRE.map({1:0 ,2:1, 3:0, 4:1, 5:0, 6:1,\n",
    "                                                                     7:1, 8:0, 9:1, 10:0, 11:1, 12:0,\n",
    "                                                                     13:1, 14:0, 15:1})"
   ]
  },
  {
   "cell_type": "code",
   "execution_count": 27,
   "metadata": {},
   "outputs": [
    {
     "data": {
      "text/html": [
       "<div>\n",
       "<style>\n",
       "    .dataframe thead tr:only-child th {\n",
       "        text-align: right;\n",
       "    }\n",
       "\n",
       "    .dataframe thead th {\n",
       "        text-align: left;\n",
       "    }\n",
       "\n",
       "    .dataframe tbody tr th {\n",
       "        vertical-align: top;\n",
       "    }\n",
       "</style>\n",
       "<table border=\"1\" class=\"dataframe\">\n",
       "  <thead>\n",
       "    <tr style=\"text-align: right;\">\n",
       "      <th></th>\n",
       "      <th>PRAEGENDE_JUGENDJAHRE</th>\n",
       "      <th>MOVEMENT</th>\n",
       "    </tr>\n",
       "  </thead>\n",
       "  <tbody>\n",
       "    <tr>\n",
       "      <th>1</th>\n",
       "      <td>14.0</td>\n",
       "      <td>0.0</td>\n",
       "    </tr>\n",
       "    <tr>\n",
       "      <th>2</th>\n",
       "      <td>15.0</td>\n",
       "      <td>1.0</td>\n",
       "    </tr>\n",
       "    <tr>\n",
       "      <th>3</th>\n",
       "      <td>8.0</td>\n",
       "      <td>0.0</td>\n",
       "    </tr>\n",
       "    <tr>\n",
       "      <th>4</th>\n",
       "      <td>8.0</td>\n",
       "      <td>0.0</td>\n",
       "    </tr>\n",
       "    <tr>\n",
       "      <th>5</th>\n",
       "      <td>3.0</td>\n",
       "      <td>0.0</td>\n",
       "    </tr>\n",
       "  </tbody>\n",
       "</table>\n",
       "</div>"
      ],
      "text/plain": [
       "   PRAEGENDE_JUGENDJAHRE  MOVEMENT\n",
       "1                   14.0       0.0\n",
       "2                   15.0       1.0\n",
       "3                    8.0       0.0\n",
       "4                    8.0       0.0\n",
       "5                    3.0       0.0"
      ]
     },
     "execution_count": 27,
     "metadata": {},
     "output_type": "execute_result"
    }
   ],
   "source": [
    "# We verify our mapping\n",
    "azdias_encoded[['PRAEGENDE_JUGENDJAHRE', 'MOVEMENT']].head()"
   ]
  },
  {
   "cell_type": "code",
   "execution_count": 28,
   "metadata": {},
   "outputs": [
    {
     "name": "stderr",
     "output_type": "stream",
     "text": [
      "/opt/conda/lib/python3.6/site-packages/pandas/core/indexing.py:179: SettingWithCopyWarning: \n",
      "A value is trying to be set on a copy of a slice from a DataFrame\n",
      "\n",
      "See the caveats in the documentation: http://pandas.pydata.org/pandas-docs/stable/indexing.html#indexing-view-versus-copy\n",
      "  self._setitem_with_indexer(indexer, value)\n"
     ]
    }
   ],
   "source": [
    "# Investigate \"CAMEO_INTL_2015\" and engineer two new variables.\n",
    "# Looking at the data dictionary, we just have to split these numbers in two\n",
    "# The first digit represents the wealth, while the second represents the life stage\n",
    "# We start by initializing two new variables with missing values\n",
    "azdias_encoded['WEALTH'] = np.nan\n",
    "azdias_encoded['LIFE_STAGE'] = np.nan\n",
    "\n",
    "# Where CAMEO_INTL_2015 has a value, we replace these two variables with the appropriate digits\n",
    "azdias_encoded['WEALTH'].loc[azdias_encoded.CAMEO_INTL_2015.notnull()] = azdias_encoded.CAMEO_INTL_2015.loc[azdias_encoded.CAMEO_INTL_2015.notnull()].apply(str).apply(lambda x: x[0]).astype(int)\n",
    "azdias_encoded['LIFE_STAGE'].loc[azdias_encoded.CAMEO_INTL_2015.notnull()] = azdias_encoded.CAMEO_INTL_2015.loc[azdias_encoded.CAMEO_INTL_2015.notnull()].apply(str).apply(lambda x: x[1]).astype(int)"
   ]
  },
  {
   "cell_type": "code",
   "execution_count": 29,
   "metadata": {},
   "outputs": [
    {
     "data": {
      "text/html": [
       "<div>\n",
       "<style>\n",
       "    .dataframe thead tr:only-child th {\n",
       "        text-align: right;\n",
       "    }\n",
       "\n",
       "    .dataframe thead th {\n",
       "        text-align: left;\n",
       "    }\n",
       "\n",
       "    .dataframe tbody tr th {\n",
       "        vertical-align: top;\n",
       "    }\n",
       "</style>\n",
       "<table border=\"1\" class=\"dataframe\">\n",
       "  <thead>\n",
       "    <tr style=\"text-align: right;\">\n",
       "      <th></th>\n",
       "      <th>CAMEO_INTL_2015</th>\n",
       "      <th>WEALTH</th>\n",
       "      <th>LIFE_STAGE</th>\n",
       "    </tr>\n",
       "  </thead>\n",
       "  <tbody>\n",
       "    <tr>\n",
       "      <th>1</th>\n",
       "      <td>51</td>\n",
       "      <td>5.0</td>\n",
       "      <td>1.0</td>\n",
       "    </tr>\n",
       "    <tr>\n",
       "      <th>2</th>\n",
       "      <td>24</td>\n",
       "      <td>2.0</td>\n",
       "      <td>4.0</td>\n",
       "    </tr>\n",
       "    <tr>\n",
       "      <th>3</th>\n",
       "      <td>12</td>\n",
       "      <td>1.0</td>\n",
       "      <td>2.0</td>\n",
       "    </tr>\n",
       "    <tr>\n",
       "      <th>4</th>\n",
       "      <td>43</td>\n",
       "      <td>4.0</td>\n",
       "      <td>3.0</td>\n",
       "    </tr>\n",
       "    <tr>\n",
       "      <th>5</th>\n",
       "      <td>54</td>\n",
       "      <td>5.0</td>\n",
       "      <td>4.0</td>\n",
       "    </tr>\n",
       "  </tbody>\n",
       "</table>\n",
       "</div>"
      ],
      "text/plain": [
       "  CAMEO_INTL_2015  WEALTH  LIFE_STAGE\n",
       "1              51     5.0         1.0\n",
       "2              24     2.0         4.0\n",
       "3              12     1.0         2.0\n",
       "4              43     4.0         3.0\n",
       "5              54     5.0         4.0"
      ]
     },
     "execution_count": 29,
     "metadata": {},
     "output_type": "execute_result"
    }
   ],
   "source": [
    "# We can verify our mapping\n",
    "azdias_encoded[['CAMEO_INTL_2015', 'WEALTH', 'LIFE_STAGE']].head()"
   ]
  },
  {
   "cell_type": "markdown",
   "metadata": {},
   "source": [
    "All the work for the variables PRAEGENDE_JUGENDJAHRE and CAMEO_INTL_2015 is documented in details in the comments of the relevant cells. Let us examine the remaining mixed-type features to determine whether we need to engineer them:\n",
    "- LP_LEBENSPHASE_GROB seems to mix information from life stage and wealth. This seems redundant with the CAMEO_INTL_2015 variable, so we will get rid of it\n",
    "- LP_LEBENSPHASE_FEIN extends on the previous variable, so similarly we will get rid of it\n",
    "- from WOHNLAGE, we could extract a binary flag of the neighborhood being urban or rural, but the levels are confusing for the quality of the neighborhood so we extract the rural flag but otherwise drop the variable \n",
    "- from PLZ8_BAUMAX, we can extract information about the more common type of building (business vs. residential) in the macrocell, but the size of the building is confusing between the two types so we extract the building type and otherwise drop the variable "
   ]
  },
  {
   "cell_type": "markdown",
   "metadata": {},
   "source": [
    "#### Step 1.2.3: Complete Feature Selection\n",
    "\n",
    "We put everything together, making sure we only have the columns we want for analysis in our dataset."
   ]
  },
  {
   "cell_type": "code",
   "execution_count": 30,
   "metadata": {},
   "outputs": [],
   "source": [
    "# Finish cleaning up\n",
    "# We start with WOHNLAGE, extracting both the quality of the neighborhood\n",
    "azdias_encoded['RURAL'] = azdias_encoded.WOHNLAGE.map({0:0 ,1:0, 2:0, 3:0, 4:0, 5:0, 7:1, 8:1})"
   ]
  },
  {
   "cell_type": "code",
   "execution_count": 31,
   "metadata": {},
   "outputs": [],
   "source": [
    "# We then extract information from KBA05_BAUMAX and PLZ8_BAUMAX \n",
    "azdias_encoded['REGION_BUILDING_TYPE'] = azdias_encoded.PLZ8_BAUMAX.map({0:0, 1:0, 2:0, 3:0, 4:0, 5:1})"
   ]
  },
  {
   "cell_type": "code",
   "execution_count": 32,
   "metadata": {},
   "outputs": [],
   "source": [
    "# We only have to drop columns for the mixed features \n",
    "mixed_col = feat_info.loc[feat_info.type == 'mixed', 'attribute'].values.tolist()\n",
    "mixed_col.remove('KBA05_BAUMAX') # it was already removed\n",
    "azdias_encoded.drop(mixed_col, axis = 1, inplace = True)\n",
    "\n",
    "# Doing a first pass of the analysis, we noticed that GEBAEUDETYP_5.0 would be missing from customers data\n",
    "# We remove them here to prevent issues\n",
    "# I am confident in doing this since neither of these columns seemed to play a prevalent role in the main PC's\n",
    "# These are variables which result from engineering categorical variables\n",
    "# So this problem is probably due to levels being present for the general population, not the customers\n",
    "\n",
    "azdias_encoded.drop(['GEBAEUDETYP_5.0'], axis = 1, inplace = True)"
   ]
  },
  {
   "cell_type": "code",
   "execution_count": 33,
   "metadata": {},
   "outputs": [],
   "source": [
    "# We create a copy of our dataframe for analysis, on which we will perform scaling and PCA\n",
    "azdias_analysis = azdias_encoded.copy()"
   ]
  },
  {
   "cell_type": "markdown",
   "metadata": {},
   "source": [
    "### Step 1.3: Create a Cleaning Function\n",
    "\n",
    "We create a cleaning function to make it modular and reusable. In particular, we want to be able to re-use for the dataset for the mail-order company."
   ]
  },
  {
   "cell_type": "code",
   "execution_count": 54,
   "metadata": {},
   "outputs": [],
   "source": [
    "def clean_data(df):\n",
    "    \"\"\"\n",
    "    Perform feature trimming, re-encoding, and engineering for demographics\n",
    "    data\n",
    "    \n",
    "    INPUT: Demographics DataFrame\n",
    "    OUTPUT: Trimmed and cleaned demographics DataFrame\n",
    "    \"\"\"\n",
    "    \n",
    "    def compare_codes(x):\n",
    "    # we first check for NaN values, handling the exception accordingly\n",
    "        try:\n",
    "            if np.isnan(x):\n",
    "                return(True)\n",
    "        except:\n",
    "            pass\n",
    "\n",
    "        # we need to be careful about the conversion of floats to strings, so we split on the decimal\n",
    "        # separator and only keep the first part\n",
    "        return(str(x).split('.')[0] in missing_parsed)\n",
    "    \n",
    "    # Put in code here to execute all main cleaning steps:\n",
    "    # convert missing value codes into NaNs, ...\n",
    "    for c in df:\n",
    "        missing = feat_info[feat_info.attribute == c].missing_or_unknown.values.tolist()\n",
    "        missing_parsed = missing[0].split('[')[1].split(']')[0].split(',')\n",
    "\n",
    "        check = df[c].apply(compare_codes)    \n",
    "        df.loc[check, c] = np.nan\n",
    "    \n",
    "    # remove selected columns and rows, ...\n",
    "    # for the columns, we need to make sure we are dropping the same columns by names, \n",
    "    # even though the distribution of missing values might be different in the customer dataset\n",
    "    df.drop(high_na_col, axis = 1, inplace = True)\n",
    "    \n",
    "    # for the rows, we can apply the same heuristic\n",
    "    # we keep the number of rows excluded handy for future analysis\n",
    "    missing_row = df.isnull().sum(axis = 1)\n",
    "    max_na_row = missing_row.quantile(0.9)\n",
    "    df_filtered = df.loc[(missing_row <= max_na_row), :]\n",
    "    rows_excluded = sum(missing_row > max_na_row)\n",
    "    \n",
    "    # select, re-encode, and engineer column values.\n",
    "    df_filtered.OST_WEST_KZ = df_filtered.OST_WEST_KZ.map({'W':0, 'O': 1})\n",
    "    categorical_col = feat_info.loc[feat_info.type == 'categorical'].attribute\n",
    "    categorical_col\n",
    "\n",
    "    # From there we can determine a list of columns to re-encode through one-hot encoding\n",
    "    to_keep = []\n",
    "    for c in categorical_col:\n",
    "        if not (c in high_na_col or c in binary):\n",
    "            to_keep.append(True)\n",
    "        else:\n",
    "            to_keep.append(False)\n",
    "\n",
    "    categorical_col_tocode = categorical_col[to_keep]\n",
    "    df_encoded = pd.get_dummies(df_filtered, columns = categorical_col_tocode)\n",
    "    df_encoded['DECADE'] = df_encoded.PRAEGENDE_JUGENDJAHRE.map({1:0 ,2:0, 3:1, 4:1, 5:2, 6:2,\n",
    "                                                                     7:2, 8:3, 9:3, 10:4, 11:4, 12:4,\n",
    "                                                                     13:4, 14:5, 15:5})\n",
    "    \n",
    "    df_encoded['MOVEMENT'] = df_encoded.PRAEGENDE_JUGENDJAHRE.map({1:0 ,2:1, 3:0, 4:1, 5:0, 6:1,\n",
    "                                                                     7:1, 8:0, 9:1, 10:0, 11:1, 12:0,\n",
    "                                                                     13:1, 14:0, 15:1})\n",
    "    \n",
    "    df_encoded['WEALTH'] = np.nan\n",
    "    df_encoded['LIFE_STAGE'] = np.nan\n",
    "\n",
    "    # Where CAMEO_INTL_2015 has a value, we replace these two variables with the appropriate digits\n",
    "    df_encoded['WEALTH'].loc[df_encoded.CAMEO_INTL_2015.notnull()] = df_encoded.CAMEO_INTL_2015.loc[df_encoded.CAMEO_INTL_2015.notnull()].apply(str).apply(lambda x: x[0]).astype(int)\n",
    "    df_encoded['LIFE_STAGE'].loc[df_encoded.CAMEO_INTL_2015.notnull()] = df_encoded.CAMEO_INTL_2015.loc[df_encoded.CAMEO_INTL_2015.notnull()].apply(str).apply(lambda x: x[1]).astype(int)\n",
    "    \n",
    "    # We start with WOHNLAGE, extracting both the quality of the neighborhood\n",
    "    df_encoded['RURAL'] = df_encoded.WOHNLAGE.map({0:0 ,1:0, 2:0, 3:0, 4:0, 5:0, 7:1, 8:1})\n",
    "    \n",
    "    # We then extract information from KBA05_BAUMAX and PLZ8_BAUMAX \n",
    "    df_encoded['REGION_BUILDING_TYPE'] = df_encoded.PLZ8_BAUMAX.map({1:0, 2:0, 3:0, 4:0, 5:1})\n",
    "    \n",
    "    \n",
    "    mixed_col = feat_info.loc[feat_info.type == 'mixed', 'attribute'].values.tolist()\n",
    "    mixed_col.remove('KBA05_BAUMAX')\n",
    "    # Finally, we drop the mixed columns\n",
    "    df_encoded.drop(mixed_col, axis = 1, inplace = True)\n",
    "    \n",
    "    # Return the cleaned dataframe.\n",
    "    return(df_encoded, rows_excluded)"
   ]
  },
  {
   "cell_type": "markdown",
   "metadata": {},
   "source": [
    "## Step 2: Feature Transformation\n",
    "\n",
    "### Step 2.1: Apply Feature Scaling\n",
    "\n",
    "Before we apply dimensionality reduction techniques to the data, we need to perform feature scaling so that the principal component vectors are not influenced by the natural differences in scale for features:\n",
    "- sklearn requires that data not have missing values in order for its estimators to work properly. So, before applying the scaler to the data, make sure that we've cleaned the DataFrame of the remaining missing values. This can be as simple as just removing all data points with missing data, or applying an [Imputer](http://scikit-learn.org/stable/modules/generated/sklearn.preprocessing.Imputer.html) to replace all missing values. We might also try a more complicated procedure where we temporarily remove missing values in order to compute the scaling parameters before re-introducing those missing values and applying imputation. \n",
    "- For the actual scaling function, a [StandardScaler](http://scikit-learn.org/stable/modules/generated/sklearn.preprocessing.StandardScaler.html) instance is used, scaling each feature to mean 0 and standard deviation 1.\n",
    "- For these classes, we can make use of the `.fit_transform()` method to both fit a procedure to the data as well as apply the transformation to the data at the same time. Don't forget to keep the fit sklearn objects handy, since we'll be applying them to the customer demographics data towards the end of the project."
   ]
  },
  {
   "cell_type": "code",
   "execution_count": 35,
   "metadata": {},
   "outputs": [
    {
     "data": {
      "text/plain": [
       "ALTERSKATEGORIE_GROB      2803\n",
       "FINANZ_MINIMALIST            0\n",
       "FINANZ_SPARER                0\n",
       "FINANZ_VORSORGER             0\n",
       "FINANZ_ANLEGER               0\n",
       "FINANZ_UNAUFFAELLIGER        0\n",
       "FINANZ_HAUSBAUER             0\n",
       "GREEN_AVANTGARDE             0\n",
       "HEALTH_TYP               36731\n",
       "RETOURTYP_BK_S            4753\n",
       "SEMIO_SOZ                    0\n",
       "SEMIO_FAM                    0\n",
       "SEMIO_REL                    0\n",
       "SEMIO_MAT                    0\n",
       "SEMIO_VERT                   0\n",
       "SEMIO_LUST                   0\n",
       "SEMIO_ERL                    0\n",
       "SEMIO_KULT                   0\n",
       "SEMIO_RAT                    0\n",
       "SEMIO_KRIT                   0\n",
       "SEMIO_DOM                    0\n",
       "SEMIO_KAEM                   0\n",
       "SEMIO_PFLICHT                0\n",
       "SEMIO_TRADV                  0\n",
       "SOHO_KZ                      0\n",
       "ANZ_PERSONEN                 0\n",
       "ANZ_TITEL                    0\n",
       "HH_EINKOMMEN_SCORE       13381\n",
       "W_KEIT_KIND_HH           69120\n",
       "WOHNDAUER_2008               0\n",
       "                         ...  \n",
       "CAMEO_DEU_2015_5C            0\n",
       "CAMEO_DEU_2015_5D            0\n",
       "CAMEO_DEU_2015_5E            0\n",
       "CAMEO_DEU_2015_5F            0\n",
       "CAMEO_DEU_2015_6A            0\n",
       "CAMEO_DEU_2015_6B            0\n",
       "CAMEO_DEU_2015_6C            0\n",
       "CAMEO_DEU_2015_6D            0\n",
       "CAMEO_DEU_2015_6E            0\n",
       "CAMEO_DEU_2015_6F            0\n",
       "CAMEO_DEU_2015_7A            0\n",
       "CAMEO_DEU_2015_7B            0\n",
       "CAMEO_DEU_2015_7C            0\n",
       "CAMEO_DEU_2015_7D            0\n",
       "CAMEO_DEU_2015_7E            0\n",
       "CAMEO_DEU_2015_8A            0\n",
       "CAMEO_DEU_2015_8B            0\n",
       "CAMEO_DEU_2015_8C            0\n",
       "CAMEO_DEU_2015_8D            0\n",
       "CAMEO_DEU_2015_9A            0\n",
       "CAMEO_DEU_2015_9B            0\n",
       "CAMEO_DEU_2015_9C            0\n",
       "CAMEO_DEU_2015_9D            0\n",
       "CAMEO_DEU_2015_9E            0\n",
       "DECADE                   30099\n",
       "MOVEMENT                 30099\n",
       "WEALTH                   20208\n",
       "LIFE_STAGE               20208\n",
       "RURAL                    14005\n",
       "REGION_BUILDING_TYPE     37371\n",
       "Length: 194, dtype: int64"
      ]
     },
     "execution_count": 35,
     "metadata": {},
     "output_type": "execute_result"
    }
   ],
   "source": [
    "# We start by computing the total number of missing values\n",
    "azdias_analysis.isnull().sum()"
   ]
  },
  {
   "cell_type": "code",
   "execution_count": 36,
   "metadata": {},
   "outputs": [
    {
     "data": {
      "text/plain": [
       "(650867, 194)"
      ]
     },
     "execution_count": 36,
     "metadata": {},
     "output_type": "execute_result"
    }
   ],
   "source": [
    "# Since a lot of these values are categorical/ordinal, imputing the mean wouldn't make sense. \n",
    "# We could try dropping the null values altogether\n",
    "# We test it out on a copy of our dataset\n",
    "azdias_test = azdias_analysis.copy()\n",
    "azdias_test.dropna(axis = 0, inplace = True)\n",
    "azdias_test.shape"
   ]
  },
  {
   "cell_type": "code",
   "execution_count": 37,
   "metadata": {},
   "outputs": [],
   "source": [
    "# This number is too small, so we impute the most common value instead\n",
    "# For each given column the impact won't be too big, but we'll avoid missing too many observations this way\n",
    "azdias_filled = azdias_analysis.apply(lambda x:x.fillna(x.value_counts().index[0]))"
   ]
  },
  {
   "cell_type": "code",
   "execution_count": 38,
   "metadata": {},
   "outputs": [],
   "source": [
    "# Apply feature scaling to the general population demographics data.\n",
    "scaler = StandardScaler()\n",
    "fitted_scaler = scaler.fit(azdias_filled)\n",
    "azdias_scaled = fitted_scaler.transform(azdias_filled)"
   ]
  },
  {
   "cell_type": "markdown",
   "metadata": {},
   "source": [
    "In order to apply feature scaling, we need to get rid of the missing values. Simply removing them is not a viable solution: since not all missing values are in the same rows, we would be left with very little of the original data to perform our analysis. Yet, since in each column the number of missing values is relatively low compared to the size of the dataset, we choose to impute the most common value for each column.\n",
    "\n",
    "Once this is done, we leverage scikit-learn to standardize our data, a crucial first step before clustering."
   ]
  },
  {
   "cell_type": "markdown",
   "metadata": {},
   "source": [
    "### Step 2.2: Perform Dimensionality Reduction\n",
    "\n",
    "On the scaled data, we are now ready to apply dimensionality reduction techniques.\n",
    "\n",
    "- Use sklearn's [PCA](http://scikit-learn.org/stable/modules/generated/sklearn.decomposition.PCA.html) class to apply principal component analysis on the data, thus finding the vectors of maximal variance in the data.\n",
    "- Check out the ratio of variance explained by each principal component as well as the cumulative variance explained. We use it to choose a number of components to keep\n",
    "- Once we've made a choice for the number of components to keep, make sure we re-fit a PCA instance to perform the decided-on transformation."
   ]
  },
  {
   "cell_type": "code",
   "execution_count": 39,
   "metadata": {},
   "outputs": [],
   "source": [
    "# Apply PCA to the data.\n",
    "pca = PCA(n_components = round(0.6*azdias_scaled.shape[1]))\n",
    "azdias_pca = pca.fit_transform(azdias_scaled)"
   ]
  },
  {
   "cell_type": "code",
   "execution_count": 40,
   "metadata": {},
   "outputs": [
    {
     "data": {
      "image/png": "[encoded data removed]",
      "text/plain": [
       "<matplotlib.figure.Figure at 0x7f02c2080390>"
      ]
     },
     "metadata": {
      "needs_background": "light"
     },
     "output_type": "display_data"
    }
   ],
   "source": [
    "# Investigate the variance accounted for by each principal component.\n",
    "# We build a scree plot using a helper function\n",
    "# All credit for this function goes to Udacity,\n",
    "# I got it from the helper_functions.py file made available with the course\n",
    "def scree_plot(pca):\n",
    "    '''\n",
    "    Creates a scree plot associated with the principal components \n",
    "    \n",
    "    INPUT: pca - the result of instantian of PCA in scikit learn\n",
    "            \n",
    "    OUTPUT:\n",
    "            None\n",
    "    '''\n",
    "    num_components=len(pca.explained_variance_ratio_)\n",
    "    ind = np.arange(num_components)\n",
    "    vals = pca.explained_variance_ratio_\n",
    " \n",
    "    plt.figure(figsize=(10, 6))\n",
    "    ax = plt.subplot(111)\n",
    "    cumvals = np.cumsum(vals)\n",
    "    ax.bar(ind, vals)\n",
    "    ax.plot(ind, cumvals)\n",
    "    for i in range(num_components):\n",
    "        ax.annotate(r\"%s%%\" % ((str(vals[i]*100)[:4])), (ind[i]+0.2, vals[i]), va=\"bottom\", ha=\"center\", fontsize=12)\n",
    " \n",
    "    ax.xaxis.set_tick_params(width=0)\n",
    "    ax.yaxis.set_tick_params(width=2, length=12)\n",
    " \n",
    "    ax.set_xlabel(\"Principal Component\")\n",
    "    ax.set_ylabel(\"Variance Explained (%)\")\n",
    "    plt.title('Explained Variance Per Principal Component')\n",
    "\n",
    "scree_plot(pca)"
   ]
  },
  {
   "cell_type": "code",
   "execution_count": 41,
   "metadata": {},
   "outputs": [],
   "source": [
    "# Re-apply PCA to the data while selecting for number of components to retain.\n",
    "pca = PCA(n_components = 70)\n",
    "azdias_pca = pca.fit_transform(azdias_scaled)"
   ]
  },
  {
   "cell_type": "markdown",
   "metadata": {},
   "source": [
    "Due to the number of components in the first attempt, it is hard to get at insights on one particular component. We can see that the first component captures 7.85% of the variance, the second one 5.70%. Nonetheless, plotting the cumulated explained variance is informative: we can see that with 70 components, we capture approximately 70% of the original variance. This satisfies our desire for fewer components while retaining enough information, and hence we choose to perform the analysis with 70 principal components."
   ]
  },
  {
   "cell_type": "markdown",
   "metadata": {},
   "source": [
    "### Step 2.3: Interpret Principal Components\n",
    "\n",
    "Now that we have our transformed principal components, it's a nice idea to check out the weight of each variable on the first few components to see if they can be interpreted in some fashion.\n",
    "\n",
    "As a reminder, each principal component is a unit vector that points in the direction of highest variance (after accounting for the variance captured by earlier principal components). The further a weight is from zero, the more the principal component is in the direction of the corresponding feature. If two features have large weights of the same sign (both positive or both negative), then increases in one tend expect to be associated with increases in the other. To contrast, features with different signs can be expected to show a negative correlation: increases in one variable should result in a decrease in the other."
   ]
  },
  {
   "cell_type": "code",
   "execution_count": 42,
   "metadata": {},
   "outputs": [],
   "source": [
    "# We write a function to extract the weights associated with each feature for a given component\n",
    "\n",
    "def show_weights(pca, df, i):\n",
    "    '''\n",
    "    Extracts the weights associated with each feature for the i-th component\n",
    "    \n",
    "    INPUT: pca - our instance of PCA\n",
    "           df - our original dataset (before PCA) \n",
    "           i - the component we are interested in \n",
    "    OUTPUT:\n",
    "           a sorted Series of features and their associated weights \n",
    "    ''' \n",
    "\n",
    "    components = pd.DataFrame(np.round(pca.components_, 4), columns = azdias_filled.keys())\n",
    "    return(components.loc[i,:].sort_values())"
   ]
  },
  {
   "cell_type": "code",
   "execution_count": 43,
   "metadata": {},
   "outputs": [
    {
     "name": "stdout",
     "output_type": "stream",
     "text": [
      "FINANZ_MINIMALIST    -0.1887\n",
      "MOBI_REGIO           -0.1857\n",
      "PLZ8_ANTG1           -0.1848\n",
      "KBA05_GBZ            -0.1808\n",
      "KBA05_ANTG1          -0.1786\n",
      "KONSUMNAEHE          -0.1389\n",
      "PLZ8_GBZ             -0.1343\n",
      "INNENSTADT           -0.1309\n",
      "RURAL                -0.1163\n",
      "LP_STATUS_GROB_4.0   -0.1133\n",
      "Name: 0, dtype: float64\n",
      "\n",
      "\n",
      "LP_STATUS_FEIN_1.0    0.1258\n",
      "KBA05_ANTG4           0.1295\n",
      "FINANZ_HAUSBAUER      0.1459\n",
      "EWDICHTE              0.1569\n",
      "ORTSGR_KLS9           0.1601\n",
      "PLZ8_ANTG4            0.1758\n",
      "HH_EINKOMMEN_SCORE    0.1808\n",
      "WEALTH                0.1814\n",
      "PLZ8_ANTG3            0.1837\n",
      "LP_STATUS_GROB_1.0    0.1945\n",
      "Name: 0, dtype: float64\n"
     ]
    }
   ],
   "source": [
    "# Map weights for the first principal component to corresponding feature names\n",
    "# and then print the linked values, sorted by weight.\n",
    "# For the first principal component, we pass 0 as an argument since it is 0-indexed\n",
    "# We only show the first 10 and last 10\n",
    "first_weights = show_weights(pca, azdias_filled, 0)\n",
    "print(first_weights.head(10))\n",
    "print('\\n')\n",
    "print(first_weights.tail(10))"
   ]
  },
  {
   "cell_type": "code",
   "execution_count": 44,
   "metadata": {},
   "outputs": [
    {
     "name": "stdout",
     "output_type": "stream",
     "text": [
      "DECADE                  -0.2296\n",
      "FINANZ_SPARER           -0.2267\n",
      "SEMIO_REL               -0.2181\n",
      "FINANZ_UNAUFFAELLIGER   -0.2142\n",
      "SEMIO_TRADV             -0.2072\n",
      "SEMIO_PFLICHT           -0.2047\n",
      "FINANZ_ANLEGER          -0.2013\n",
      "SEMIO_KULT              -0.1716\n",
      "SEMIO_RAT               -0.1641\n",
      "ONLINE_AFFINITAET       -0.1591\n",
      "Name: 1, dtype: float64\n",
      "\n",
      "\n",
      "FINANZTYP_5.0           0.0949\n",
      "LP_STATUS_FEIN_1.0      0.0950\n",
      "CJT_GESAMTTYP_2.0       0.1088\n",
      "W_KEIT_KIND_HH          0.1183\n",
      "RETOURTYP_BK_S          0.1528\n",
      "SEMIO_LUST              0.1617\n",
      "SEMIO_ERL               0.1853\n",
      "ZABEOTYP_3.0            0.2004\n",
      "FINANZ_VORSORGER        0.2177\n",
      "ALTERSKATEGORIE_GROB    0.2320\n",
      "Name: 1, dtype: float64\n"
     ]
    }
   ],
   "source": [
    "# Map weights for the second principal component to corresponding feature names\n",
    "# and then print the linked values, sorted by weight.\n",
    "second_weights = show_weights(pca, azdias_filled, 1)\n",
    "print(second_weights.head(10))\n",
    "print('\\n')\n",
    "print(second_weights.tail(10))"
   ]
  },
  {
   "cell_type": "code",
   "execution_count": 45,
   "metadata": {},
   "outputs": [
    {
     "name": "stdout",
     "output_type": "stream",
     "text": [
      "ANREDE_KZ_2.0        -0.3336\n",
      "SEMIO_KAEM           -0.3021\n",
      "SEMIO_DOM            -0.2729\n",
      "SEMIO_KRIT           -0.2507\n",
      "SEMIO_ERL            -0.1895\n",
      "SEMIO_RAT            -0.1587\n",
      "FINANZ_ANLEGER       -0.1470\n",
      "FINANZTYP_1.0        -0.0994\n",
      "SHOPPER_TYP_2.0      -0.0827\n",
      "LP_STATUS_FEIN_2.0   -0.0779\n",
      "Name: 2, dtype: float64\n",
      "\n",
      "\n",
      "SEMIO_REL            0.0965\n",
      "ZABEOTYP_1.0         0.0986\n",
      "SHOPPER_TYP_0.0      0.1117\n",
      "FINANZTYP_5.0        0.1227\n",
      "FINANZ_MINIMALIST    0.1251\n",
      "SEMIO_KULT           0.2360\n",
      "SEMIO_SOZ            0.2388\n",
      "SEMIO_FAM            0.2429\n",
      "SEMIO_VERT           0.3046\n",
      "ANREDE_KZ_1.0        0.3336\n",
      "Name: 2, dtype: float64\n"
     ]
    }
   ],
   "source": [
    "# Map weights for the third principal component to corresponding feature names\n",
    "# and then print the linked values, sorted by weight.\n",
    "third_weights = show_weights(pca, azdias_filled, 2)\n",
    "print(third_weights.head(10))\n",
    "print('\\n')\n",
    "print(third_weights.tail(10))"
   ]
  },
  {
   "cell_type": "markdown",
   "metadata": {},
   "source": [
    "For the first principal component, we have positive weights on variables which describe areas with a lot of family homes (PLZ8_ANTG3, 4), low income (LP_STATUS_FEIN/GROB_1.0) as well as a lot of importance to the WEALTH variable. Conversely, there are negative weights associated with INNENSTADT, RURAL and KONSUMNAEHE which all relate to these people having an urban lifestyle. \n",
    "Putting this together, the first component seems to capture information related to low-income families living in urban centers.\n",
    "\n",
    "For the second principal component, we have a negative weight associated with the decade variable, a low online affinity (ONLINE_AFFINITAET) as well as a lot of levels of the SEMIO variable which relate to having conservative, traditional values. Conversely, the positive weights are associated with levels of the FINANZTYP variable which describe savers/investors, which are prepared for unforeseen expensitures, and levels of the SEMIO variable which describe sensual-minded or event-oriented people.\n",
    "Putting this all together, the second component seems to capture information related to older people who reject traditional, conservative values, financially stable and comfortable who want to seize the pleasures of life.\n",
    "\n",
    "The third principal component displays similar negative weights as the first one, signifying urban people. They also seem to reject investing (FINANZ_ANLEGER), event (SEMIO_ERL) and are not very combative (SEMIO_KAEM). On the other hand, they are dreamful and socially-minded (SEMIO_VERT and SEMIO_SOZ), care about green energy (ZABEOTYP_1.0) and are mostly male (ANREDE_KZ_1.0).\n",
    "Putting this all together, these people are mostly avant-garde avant-garde males who live some sort of bohemian lifestyle. I picture a typical Berliner supporter of the Green party when I think of them."
   ]
  },
  {
   "cell_type": "markdown",
   "metadata": {},
   "source": [
    "## Step 3: Clustering\n",
    "\n",
    "### Step 3.1: Apply Clustering to General Population\n",
    "\n",
    "We've assessed and cleaned the demographics data, then scaled and transformed them. Now, it's time to see how the data clusters in the principal components space. In this substep, we will apply k-means clustering to the dataset and use the average within-cluster distances from each point to their assigned cluster's centroid to decide on a number of clusters to keep."
   ]
  },
  {
   "cell_type": "code",
   "execution_count": 46,
   "metadata": {},
   "outputs": [
    {
     "data": {
      "text/plain": [
       "[<matplotlib.lines.Line2D at 0x7f02c2254518>]"
      ]
     },
     "execution_count": 46,
     "metadata": {},
     "output_type": "execute_result"
    },
    {
     "data": {
      "image/png": "[encoded data removed]",
      "text/plain": [
       "<matplotlib.figure.Figure at 0x7f02c239f2b0>"
      ]
     },
     "metadata": {
      "needs_background": "light"
     },
     "output_type": "display_data"
    }
   ],
   "source": [
    "# Over a number of different cluster counts...\n",
    "df = pd.DataFrame()\n",
    "for k in range(2,20):\n",
    "\n",
    "    # run k-means clustering on the data and...\n",
    "    model = KMeans(n_clusters=k)\n",
    "    model.fit(azdias_pca)\n",
    "    \n",
    "    # compute the average within-cluster distances.\n",
    "    df = pd.concat([df,pd.DataFrame([[k,np.abs(model.score(azdias_pca))]])])\n",
    "\n",
    "plt.plot(df[0], df[1], linestyle='--', marker='o', color='b')"
   ]
  },
  {
   "cell_type": "code",
   "execution_count": 47,
   "metadata": {},
   "outputs": [],
   "source": [
    "# Re-fit the k-means model with the selected number of clusters and obtain\n",
    "# cluster predictions for the general population demographics data.\n",
    "model = KMeans(n_clusters = 13)\n",
    "kmeans = model.fit(azdias_pca)\n",
    "clusters_general_pop = kmeans.predict(azdias_pca)"
   ]
  },
  {
   "cell_type": "markdown",
   "metadata": {},
   "source": [
    "Looking at the scree plot, there isn't a clear elbow we can choose to determine the number of clusters. After a first deceleration of decline at 7 cluster, another slowdown appears at 13. As a result, we choose this second option as our number of clusters for our solution."
   ]
  },
  {
   "cell_type": "markdown",
   "metadata": {},
   "source": [
    "### Step 3.2: Apply All Steps to the Customer Data\n",
    "\n",
    "Now that we have clusters and cluster centers for the general population, it's time to see how the customer data maps on to those clusters. Take care to not confuse this for re-fitting all of the models to the customer data. Instead, we're going to use the fits from the general population to clean, transform, and cluster the customer data. In the last step of the project, we will interpret how the general population fits apply to the customer data."
   ]
  },
  {
   "cell_type": "code",
   "execution_count": 55,
   "metadata": {},
   "outputs": [],
   "source": [
    "# Load in the customer demographics data.\n",
    "customers = pd.read_csv('Udacity_CUSTOMERS_Subset.csv', sep = ';')"
   ]
  },
  {
   "cell_type": "code",
   "execution_count": 56,
   "metadata": {},
   "outputs": [
    {
     "name": "stderr",
     "output_type": "stream",
     "text": [
      "/opt/conda/lib/python3.6/site-packages/pandas/core/generic.py:3110: SettingWithCopyWarning: \n",
      "A value is trying to be set on a copy of a slice from a DataFrame.\n",
      "Try using .loc[row_indexer,col_indexer] = value instead\n",
      "\n",
      "See the caveats in the documentation: http://pandas.pydata.org/pandas-docs/stable/indexing.html#indexing-view-versus-copy\n",
      "  self[name] = value\n",
      "/opt/conda/lib/python3.6/site-packages/pandas/core/indexing.py:179: SettingWithCopyWarning: \n",
      "A value is trying to be set on a copy of a slice from a DataFrame\n",
      "\n",
      "See the caveats in the documentation: http://pandas.pydata.org/pandas-docs/stable/indexing.html#indexing-view-versus-copy\n",
      "  self._setitem_with_indexer(indexer, value)\n"
     ]
    }
   ],
   "source": [
    "# Apply preprocessing, feature transformation, and clustering from the general\n",
    "# demographics onto the customer data, obtaining cluster predictions for the\n",
    "# customer demographics data.\n",
    "\n",
    "# We start with applying the pre-processing function\n",
    "customers_cleaned, customers_missing_rows = clean_data(customers)\n",
    "\n",
    "# We need to impute the missing values to be able to apply our scaler\n",
    "customers_filled = customers_cleaned.apply(lambda x:x.fillna(x.value_counts().index[0]))\n",
    "\n",
    "# We scale our features in the same way as the general population data\n",
    "customers_scaled = fitted_scaler.transform(customers_filled)\n",
    "\n",
    "# We obtain the same components for the customers data as the general population data\n",
    "customers_pca = pca.transform(customers_scaled)\n",
    "\n",
    "# Finally, we obtain the distribution of the customers in the clusters built for the general population\n",
    "clusters_customers = kmeans.predict(customers_pca)"
   ]
  },
  {
   "cell_type": "markdown",
   "metadata": {},
   "source": [
    "### Step 3.3: Compare Customer Data to Demographics Data\n",
    "\n",
    "At this point, we have clustered data based on demographics of the general population of Germany, and seen how the customer data for a mail-order sales company maps onto those demographic clusters. In this final substep, we will compare the two cluster distributions to see where the strongest customer base for the company is.\n",
    "\n",
    "Consider the proportion of persons in each cluster for the general population, and the proportions for the customers. If we think the company's customer base to be universal, then the cluster assignment proportions should be fairly similar between the two. If there are only particular segments of the population that are interested in the company's products, then we should see a mismatch from one to the other. If there is a higher proportion of persons in a cluster for the customer data compared to the general population (e.g. 5% of persons are assigned to a cluster for the general population, but 15% of the customer data is closest to that cluster's centroid) then that suggests the people in that cluster to be a target audience for the company. On the other hand, the proportion of the data in a cluster being larger in the general population than the customer data (e.g. only 2% of customers closest to a population centroid that captures 6% of the data) suggests that group of persons to be outside of the target demographics."
   ]
  },
  {
   "cell_type": "code",
   "execution_count": 57,
   "metadata": {},
   "outputs": [
    {
     "data": {
      "text/plain": [
       "(0.088804011575131195, 1.5653371736271994e-05)"
      ]
     },
     "execution_count": 57,
     "metadata": {},
     "output_type": "execute_result"
    }
   ],
   "source": [
    "# Compare the proportion of data in each cluster for the customer data to the\n",
    "# proportion of data in each cluster for the general population.\n",
    "\n",
    "# We start by comparing the proportion of rows excluded due to high missing values\n",
    "prop_row_missing_azdias = excluded_rows_azdias/azdias_reduced.shape[0]\n",
    "prop_row_missing_customers = customers_missing_rows/customers.shape[0]\n",
    "\n",
    "prop_row_missing_azdias, prop_row_missing_customers"
   ]
  },
  {
   "cell_type": "code",
   "execution_count": 58,
   "metadata": {},
   "outputs": [],
   "source": [
    "# We then create a dataframe, with each column representing a cluster\n",
    "# and three rows: its proportion in the general population, in the customers, \n",
    "# and the absolute difference between the two\n",
    "# when we calculate the proportion, we remember to add the rows we removed because of high missing values\n",
    "\n",
    "# We start by calculating the total population\n",
    "total_general_pop = azdias.shape[0]\n",
    "total_customers = customers.shape[0]\n",
    "\n",
    "# We create the dataframe with proportions for each cluster\n",
    "cluster_prop = pd.DataFrame(data = [np.unique(clusters_general_pop, return_counts=True)[1],\n",
    "                                    np.unique(clusters_customers, return_counts=True)[1]],\n",
    "                            columns = np.unique(clusters_general_pop))\n",
    "\n",
    "cluster_prop.iloc[0,:] = cluster_prop.iloc[0,:]/total_general_pop\n",
    "cluster_prop.iloc[1,:] = cluster_prop.iloc[1,:]/total_customers\n",
    "\n",
    "# We then calculate the difference to be able to see which clusters are over vs. under-represented\n",
    "diff = cluster_prop.diff(axis = 0).iloc[1,:]\n",
    "cluster_prop = cluster_prop.append(diff)\n",
    "cluster_prop.index = [['general_pop', 'customers', 'absolute_diff']]"
   ]
  },
  {
   "cell_type": "code",
   "execution_count": 59,
   "metadata": {
    "scrolled": true
   },
   "outputs": [
    {
     "data": {
      "text/html": [
       "<div>\n",
       "<style>\n",
       "    .dataframe thead tr:only-child th {\n",
       "        text-align: right;\n",
       "    }\n",
       "\n",
       "    .dataframe thead th {\n",
       "        text-align: left;\n",
       "    }\n",
       "\n",
       "    .dataframe tbody tr th {\n",
       "        vertical-align: top;\n",
       "    }\n",
       "</style>\n",
       "<table border=\"1\" class=\"dataframe\">\n",
       "  <thead>\n",
       "    <tr style=\"text-align: right;\">\n",
       "      <th></th>\n",
       "      <th>0</th>\n",
       "      <th>1</th>\n",
       "      <th>2</th>\n",
       "      <th>3</th>\n",
       "      <th>4</th>\n",
       "      <th>5</th>\n",
       "      <th>6</th>\n",
       "      <th>7</th>\n",
       "      <th>8</th>\n",
       "      <th>9</th>\n",
       "      <th>10</th>\n",
       "      <th>11</th>\n",
       "      <th>12</th>\n",
       "    </tr>\n",
       "  </thead>\n",
       "  <tbody>\n",
       "    <tr>\n",
       "      <th>general_pop</th>\n",
       "      <td>0.087477</td>\n",
       "      <td>0.114452</td>\n",
       "      <td>0.090876</td>\n",
       "      <td>0.070778</td>\n",
       "      <td>0.030290</td>\n",
       "      <td>0.116854</td>\n",
       "      <td>0.099066</td>\n",
       "      <td>0.010275</td>\n",
       "      <td>0.032509</td>\n",
       "      <td>0.079584</td>\n",
       "      <td>0.041595</td>\n",
       "      <td>0.107685</td>\n",
       "      <td>0.029755</td>\n",
       "    </tr>\n",
       "    <tr>\n",
       "      <th>customers</th>\n",
       "      <td>0.243243</td>\n",
       "      <td>0.076477</td>\n",
       "      <td>0.219502</td>\n",
       "      <td>0.047665</td>\n",
       "      <td>0.006767</td>\n",
       "      <td>0.146776</td>\n",
       "      <td>0.059932</td>\n",
       "      <td>0.054729</td>\n",
       "      <td>0.068671</td>\n",
       "      <td>0.005766</td>\n",
       "      <td>0.030905</td>\n",
       "      <td>0.007300</td>\n",
       "      <td>0.032251</td>\n",
       "    </tr>\n",
       "    <tr>\n",
       "      <th>absolute_diff</th>\n",
       "      <td>0.155766</td>\n",
       "      <td>-0.037975</td>\n",
       "      <td>0.128626</td>\n",
       "      <td>-0.023114</td>\n",
       "      <td>-0.023522</td>\n",
       "      <td>0.029922</td>\n",
       "      <td>-0.039135</td>\n",
       "      <td>0.044455</td>\n",
       "      <td>0.036162</td>\n",
       "      <td>-0.073818</td>\n",
       "      <td>-0.010690</td>\n",
       "      <td>-0.100385</td>\n",
       "      <td>0.002496</td>\n",
       "    </tr>\n",
       "  </tbody>\n",
       "</table>\n",
       "</div>"
      ],
      "text/plain": [
       "                     0         1         2         3         4         5   \\\n",
       "general_pop    0.087477  0.114452  0.090876  0.070778  0.030290  0.116854   \n",
       "customers      0.243243  0.076477  0.219502  0.047665  0.006767  0.146776   \n",
       "absolute_diff  0.155766 -0.037975  0.128626 -0.023114 -0.023522  0.029922   \n",
       "\n",
       "                     6         7         8         9         10        11  \\\n",
       "general_pop    0.099066  0.010275  0.032509  0.079584  0.041595  0.107685   \n",
       "customers      0.059932  0.054729  0.068671  0.005766  0.030905  0.007300   \n",
       "absolute_diff -0.039135  0.044455  0.036162 -0.073818 -0.010690 -0.100385   \n",
       "\n",
       "                     12  \n",
       "general_pop    0.029755  \n",
       "customers      0.032251  \n",
       "absolute_diff  0.002496  "
      ]
     },
     "execution_count": 59,
     "metadata": {},
     "output_type": "execute_result"
    }
   ],
   "source": [
    "# We visualize our dataframe to make sure it captures the desired information\n",
    "cluster_prop"
   ]
  },
  {
   "cell_type": "code",
   "execution_count": 60,
   "metadata": {},
   "outputs": [
    {
     "name": "stdout",
     "output_type": "stream",
     "text": [
      "0   -1.5149\n",
      "1   -4.2938\n",
      "2   -0.7984\n",
      "3   -0.9783\n",
      "4   -0.6476\n",
      "Name: 0, dtype: float64\n",
      "\n",
      "\n",
      "65    0.0217\n",
      "66   -0.0160\n",
      "67   -0.0190\n",
      "68    0.0185\n",
      "69   -0.0443\n",
      "Name: 0, dtype: float64\n"
     ]
    }
   ],
   "source": [
    "# What kinds of people are part of a cluster that is overrepresented in the\n",
    "# customer data compared to the general population?\n",
    "\n",
    "# We visualize the cluster which has the the max difference\n",
    "\n",
    "max_index = cluster_prop.idxmax(axis = 1)[2]\n",
    "\n",
    "# We get a dataframe with all the cluster centroids, based on the principal components\n",
    "centers = pd.DataFrame(np.round(kmeans.cluster_centers_, 4))\n",
    "\n",
    "# We filter for only the cluster which is overrepresented in the customer data\n",
    "# We look at the greatest absolute values for the centroids\n",
    "print(centers.iloc[max_index,:].head())\n",
    "print('\\n')\n",
    "print(centers.iloc[max_index,:].tail())"
   ]
  },
  {
   "cell_type": "code",
   "execution_count": 61,
   "metadata": {},
   "outputs": [
    {
     "name": "stdout",
     "output_type": "stream",
     "text": [
      "0    4.7242\n",
      "1   -1.9604\n",
      "2   -2.6547\n",
      "3    0.4165\n",
      "4   -0.4098\n",
      "Name: 11, dtype: float64\n",
      "\n",
      "\n",
      "65   -0.0292\n",
      "66    0.0474\n",
      "67    0.0314\n",
      "68    0.0049\n",
      "69    0.0465\n",
      "Name: 11, dtype: float64\n"
     ]
    }
   ],
   "source": [
    "# What kinds of people are part of a cluster that is underrepresented in the\n",
    "# customer data compared to the general population?\n",
    "# We visualize the cluster which has the the max difference\n",
    "\n",
    "min_index = cluster_prop.idxmin(axis = 1)[2]\n",
    "\n",
    "# We get a dataframe with all the cluster centroids, based on the principal components\n",
    "centers = pd.DataFrame(np.round(kmeans.cluster_centers_, 4))\n",
    "\n",
    "# We filter for only the cluster which is overrepresented in the customer data\n",
    "# We look at the greatest absolute values for the centroids\n",
    "print(centers.iloc[min_index,:].head())\n",
    "print('\\n')\n",
    "print(centers.iloc[min_index,:].tail())"
   ]
  },
  {
   "cell_type": "markdown",
   "metadata": {},
   "source": [
    "The mail-order company over-indexes on people who are very different from the first and second components combined. Based on the description of these two elements above, we could say they do not do well with low-income families in cities as well as well-off older people with low digital fluency.\n",
    "\n",
    "We can also see this company under-indexes on people who resemble the first component, but are opposite to the second one. This confirms our intuition that urban people are definitely not the target audience for this mail-order company."
   ]
  },
  {
   "cell_type": "code",
   "execution_count": 2,
   "metadata": {},
   "outputs": [
    {
     "data": {
      "text/plain": [
       "['[NbConvertApp] Converting notebook Identify_Customer_Segments.ipynb to html',\n",
       " '[NbConvertApp] Writing 522693 bytes to Identify_Customer_Segments.html']"
      ]
     },
     "execution_count": 2,
     "metadata": {},
     "output_type": "execute_result"
    }
   ],
   "source": [
    "!!jupyter nbconvert *.ipynb"
   ]
  },
  {
   "cell_type": "code",
   "execution_count": null,
   "metadata": {},
   "outputs": [],
   "source": []
  }
 ],
 "metadata": {
  "kernelspec": {
   "display_name": "Python 3",
   "language": "python",
   "name": "python3"
  },
  "language_info": {
   "codemirror_mode": {
    "name": "ipython",
    "version": 3
   },
   "file_extension": ".py",
   "mimetype": "text/x-python",
   "name": "python",
   "nbconvert_exporter": "python",
   "pygments_lexer": "ipython3",
   "version": "3.7.1"
  }
 },
 "nbformat": 4,
 "nbformat_minor": 2
}
